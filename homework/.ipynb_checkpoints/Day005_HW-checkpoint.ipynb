{
 "cells": [
  {
   "cell_type": "markdown",
   "metadata": {},
   "source": [
    "# API 資料串接 - 以 Dcard API 實作範例\n",
    "\n",
    "* 了解 Dcard API 使用方式與回傳內容\n",
    "* 撰寫程式存取 API 且解析 JSON 格式資料\n"
   ]
  },
  {
   "cell_type": "markdown",
   "metadata": {},
   "source": [
    "## 作業目標\n",
    "\n",
    "* 請利用 API: https://www.dcard.tw/_api/forums/pet/posts?popular=true 回答下列問題：\n",
    "\n",
    "1. 這個 API 一次會回傳幾筆資料？每一筆資料包含哪些欄位？\n",
    "2. 取出每一筆資料的「標題」、「貼文時間」、「留言人數」、「按讚人數」\n",
    "3. 計算熱門/非熱門文章的「平均留言人數」與「平均按讚人數」"
   ]
  },
  {
   "cell_type": "code",
   "execution_count": 1,
   "metadata": {},
   "outputs": [
    {
     "name": "stdout",
     "output_type": "stream",
     "text": [
      "30\n",
      "['id', 'title', 'excerpt', 'anonymousSchool', 'anonymousDepartment', 'pinned', 'forumId', 'replyId', 'createdAt', 'updatedAt', 'commentCount', 'likeCount', 'withNickname', 'tags', 'topics', 'meta', 'forumName', 'forumAlias', 'nsfw', 'gender', 'school', 'replyTitle', 'mediaMeta', 'reactions', 'hidden', 'customStyle', 'isSuspiciousAccount', 'layout', 'withImages', 'withVideos', 'media', 'reportReasonText', 'postAvatar']\n"
     ]
    },
    {
     "data": {
      "text/plain": [
       "{'id': 234142913,\n",
       " 'title': '第四個家，也是你的最後一個',\n",
       " 'excerpt': '先說說奶皮的背景，奶皮是我最近才領養回來的，我是奶皮的第四個主人（也會是最後一個），聽到奶皮輾轉去過那麼多家之後其實很心疼，一隻貓要適應一個環境、熟悉人要花多少時間，尤其奶皮超級親人的個性，發現每天蹭',\n",
       " 'anonymousSchool': False,\n",
       " 'anonymousDepartment': True,\n",
       " 'pinned': False,\n",
       " 'forumId': '7ee21581-1307-4ba9-b9dc-82028bdcca49',\n",
       " 'replyId': None,\n",
       " 'createdAt': '2020-07-30T13:10:36.165Z',\n",
       " 'updatedAt': '2020-07-30T13:40:38.411Z',\n",
       " 'commentCount': 23,\n",
       " 'likeCount': 236,\n",
       " 'withNickname': False,\n",
       " 'tags': [],\n",
       " 'topics': ['貓', '寵物', '可愛', '領養代替購買', '米克斯'],\n",
       " 'meta': {'layout': 'classic'},\n",
       " 'forumName': '寵物',\n",
       " 'forumAlias': 'pet',\n",
       " 'nsfw': False,\n",
       " 'gender': 'F',\n",
       " 'school': '逢甲大學',\n",
       " 'replyTitle': None,\n",
       " 'mediaMeta': [{'id': 'd6d06174-bc24-4c60-b815-f4a808efca2b',\n",
       "   'url': 'https://i.imgur.com/NsO2OvFl.jpg',\n",
       "   'normalizedUrl': 'https://i.imgur.com/NsO2OvFl.jpg',\n",
       "   'thumbnail': 'https://i.imgur.com/NsO2OvFl.jpg',\n",
       "   'type': 'image/thumbnail',\n",
       "   'tags': ['ANNOTATED'],\n",
       "   'createdAt': '2020-07-30T13:10:36.165Z',\n",
       "   'updatedAt': '2020-07-30T13:40:38.411Z'},\n",
       "  {'id': 'd6d06174-bc24-4c60-b815-f4a808efca2b',\n",
       "   'url': 'https://i.imgur.com/NsO2OvF.jpg',\n",
       "   'normalizedUrl': 'https://imgur.com/NsO2OvF',\n",
       "   'thumbnail': 'https://i.imgur.com/NsO2OvFl.jpg',\n",
       "   'type': 'image/imgur',\n",
       "   'tags': ['ANNOTATED'],\n",
       "   'createdAt': '2020-07-30T13:10:36.165Z',\n",
       "   'updatedAt': '2020-07-30T13:40:38.411Z'},\n",
       "  {'id': '4290adb8-885f-4057-ac39-84ac7b2d3a92',\n",
       "   'url': 'https://i.imgur.com/Obhatjp.jpg',\n",
       "   'normalizedUrl': 'https://imgur.com/Obhatjp',\n",
       "   'thumbnail': 'https://i.imgur.com/Obhatjpl.jpg',\n",
       "   'type': 'image/imgur',\n",
       "   'tags': ['ANNOTATED'],\n",
       "   'createdAt': '2020-07-30T13:10:36.165Z',\n",
       "   'updatedAt': '2020-07-30T13:40:38.411Z'},\n",
       "  {'id': '21f83ad6-8fe2-4c5b-a7ff-e4ac69eb5f8c',\n",
       "   'url': 'https://i.imgur.com/XZJ4JE3.jpg',\n",
       "   'normalizedUrl': 'https://imgur.com/XZJ4JE3',\n",
       "   'thumbnail': 'https://i.imgur.com/XZJ4JE3l.jpg',\n",
       "   'type': 'image/imgur',\n",
       "   'tags': ['ANNOTATED'],\n",
       "   'createdAt': '2020-07-30T13:10:36.165Z',\n",
       "   'updatedAt': '2020-07-30T13:40:38.411Z'},\n",
       "  {'id': '235af5b8-3e6c-45c2-bdf9-0d90ed8d2b10',\n",
       "   'url': 'https://www.dcard.tw/v2/vivid/videos/1f298f4e-ebb8-498e-8bae-fef8b0751605?r=1.0',\n",
       "   'normalizedUrl': '',\n",
       "   'thumbnail': 'https://vivid.dcard.tw/Public/1f298f4e-ebb8-498e-8bae-fef8b0751605/thumbnail.jpg',\n",
       "   'type': 'video/vivid',\n",
       "   'tags': ['ANNOTATED_FAILED'],\n",
       "   'createdAt': '2020-07-30T13:10:36.165Z',\n",
       "   'updatedAt': '2020-07-30T13:40:38.411Z'},\n",
       "  {'id': '16ed4807-75e2-4775-bb27-aa5761d0a932',\n",
       "   'url': 'https://i.imgur.com/AtZOkSg.jpg',\n",
       "   'normalizedUrl': 'https://imgur.com/AtZOkSg',\n",
       "   'thumbnail': 'https://i.imgur.com/AtZOkSgl.jpg',\n",
       "   'type': 'image/imgur',\n",
       "   'tags': ['ANNOTATED'],\n",
       "   'createdAt': '2020-07-30T13:10:36.165Z',\n",
       "   'updatedAt': '2020-07-30T13:40:38.411Z'},\n",
       "  {'id': '49ddfdd9-a593-41fa-bdd4-ef6f9ffa7d89',\n",
       "   'url': 'https://i.imgur.com/FzbY0a9.jpg',\n",
       "   'normalizedUrl': 'https://imgur.com/FzbY0a9',\n",
       "   'thumbnail': 'https://i.imgur.com/FzbY0a9l.jpg',\n",
       "   'type': 'image/imgur',\n",
       "   'tags': ['ANNOTATED'],\n",
       "   'createdAt': '2020-07-30T13:10:36.165Z',\n",
       "   'updatedAt': '2020-07-30T13:40:38.411Z'}],\n",
       " 'reactions': [{'id': '286f599c-f86a-4932-82f0-f5a06f1eca03', 'count': 234},\n",
       "  {'id': '514c2569-fd53-4d9d-a415-bf0f88e7329f', 'count': 2}],\n",
       " 'hidden': False,\n",
       " 'customStyle': None,\n",
       " 'isSuspiciousAccount': False,\n",
       " 'layout': 'classic',\n",
       " 'withImages': True,\n",
       " 'withVideos': True,\n",
       " 'media': [{'url': 'https://i.imgur.com/NsO2OvF.jpg'},\n",
       "  {'url': 'https://i.imgur.com/Obhatjp.jpg'},\n",
       "  {'url': 'https://i.imgur.com/XZJ4JE3.jpg'},\n",
       "  {'url': 'https://vivid.dcard.tw/Public/1f298f4e-ebb8-498e-8bae-fef8b0751605/thumbnail.jpg'},\n",
       "  {'url': 'https://i.imgur.com/AtZOkSg.jpg'},\n",
       "  {'url': 'https://i.imgur.com/FzbY0a9.jpg'}],\n",
       " 'reportReasonText': '',\n",
       " 'postAvatar': ''}"
      ]
     },
     "execution_count": 1,
     "metadata": {},
     "output_type": "execute_result"
    }
   ],
   "source": [
    "# 1. 這個 API 一次會回傳幾筆資料？每一筆資料包含哪些欄位？\n",
    "import requests\n",
    "import json\n",
    "html = requests.get(\"https://www.dcard.tw/_api/forums/pet/posts?popular=true\")\n",
    "data = json.loads(html.text)\n",
    "print(len(data))\n",
    "key_list = []\n",
    "for key in data[0]:\n",
    "    key_list.append(key)\n",
    "print(key_list)\n",
    "data[0]"
   ]
  },
  {
   "cell_type": "markdown",
   "metadata": {},
   "source": [
    "這個 API 一次會回傳30筆資料\n",
    "每一筆資料包含這些欄位:['id', 'title', 'excerpt', 'anonymousSchool', 'anonymousDepartment', 'pinned', 'forumId', 'replyId', 'createdAt', 'updatedAt', 'commentCount', 'likeCount', 'withNickname', 'tags', 'topics', 'meta', 'forumName', 'forumAlias', 'nsfw', 'gender', 'school', 'replyTitle', 'mediaMeta', 'reactions', 'hidden', 'customStyle', 'isSuspiciousAccount', 'layout', 'withImages', 'withVideos', 'media', 'reportReasonText', 'postAvatar']"
   ]
  },
  {
   "cell_type": "code",
   "execution_count": 2,
   "metadata": {},
   "outputs": [],
   "source": [
    "# 2. 取出每一筆資料的「標題」、「貼文時間」、「留言人數」、「按讚人數」\n",
    "title_list = []\n",
    "time_lsit = []\n",
    "comment_people_list = []\n",
    "good_people_list = []\n",
    "\n",
    "for d in data:\n",
    "    title_list.append(d[\"title\"])\n",
    "    time_lsit.append(d[\"createdAt\"])\n",
    "    comment_people_list.append(d[\"commentCount\"])\n",
    "    good_people_list.append(d[\"likeCount\"])\n"
   ]
  },
  {
   "cell_type": "code",
   "execution_count": 3,
   "metadata": {},
   "outputs": [
    {
     "name": "stdout",
     "output_type": "stream",
     "text": [
      "['第四個家，也是你的最後一個', '#妳是不是吃可愛長大的', '一個覺得事情奇怪的旁觀者來幫她澄清', '#圖 我有酒，你有故事嗎', '台灣有狐狸！？', '家裡的柯基寶貝', '麻糬是一隻奇怪的鼠', '養貓甘苦談-新手須知及花費', '#分享 小笨蛋成長史（上）', '玳瑁是世界上最可愛的貓貓🥺', '誰說吉娃娃很醜 那就進來看看我🐶', '會暖手手的貓貓都是...', '豆漿米漿感情狀況篇', '如果你家的貓也會亂咬人！可以試試這個方法！', '狗狗失蹤協尋', '我們家的貓貓崩壞史🥺💖', '抓頭髮的貓🙄', '有沒有狼犬樓', '#圖 陰間貓跳台？', '（更）貓癬 黴菌 過敏皮膚炎', '偽柴米克斯', '轉：#慎入有狗皮圖 蝦皮賣家賣狗皮是正常的嗎...？', '貓咪一直拉肚子⋯', '黃金鼠寶寶瘋狂跑飛盤 該怎麼辦😭', '帶寵物移民( 寵物多大搭飛機會比較好)', '夾到鴿子', '萌貓求一個家😍', '鵝子我...', '玳瑁幼貓送養', '獅身人面像的姿勢']\n"
     ]
    }
   ],
   "source": [
    "#標題\n",
    "print(title_list)"
   ]
  },
  {
   "cell_type": "code",
   "execution_count": 4,
   "metadata": {},
   "outputs": [
    {
     "name": "stdout",
     "output_type": "stream",
     "text": [
      "['2020-07-30T13:10:36.165Z', '2020-07-30T09:28:41.650Z', '2020-07-30T00:19:08.151Z', '2020-07-30T03:24:13.351Z', '2020-07-30T10:31:43.713Z', '2020-07-30T03:56:36.019Z', '2020-07-30T12:31:14.938Z', '2020-07-30T13:10:14.365Z', '2020-07-30T03:01:13.802Z', '2020-07-29T21:59:04.619Z', '2020-07-30T11:12:14.690Z', '2020-07-30T05:38:41.900Z', '2020-07-29T23:37:45.980Z', '2020-07-30T14:26:50.517Z', '2020-07-31T00:29:37.568Z', '2020-07-30T10:34:30.033Z', '2020-07-30T03:31:37.627Z', '2020-07-31T03:50:28.479Z', '2020-07-30T01:49:49.199Z', '2020-07-30T15:04:03.203Z', '2020-07-30T20:31:27.477Z', '2020-07-30T14:54:59.931Z', '2020-07-30T11:21:32.839Z', '2020-07-31T01:08:00.942Z', '2020-07-30T12:08:35.122Z', '2020-07-30T06:45:37.472Z', '2020-07-30T03:43:11.745Z', '2020-07-31T05:14:48.602Z', '2020-07-31T03:55:26.168Z', '2020-07-30T13:45:54.317Z']\n"
     ]
    }
   ],
   "source": [
    "#貼文時間\n",
    "print(time_lsit)"
   ]
  },
  {
   "cell_type": "code",
   "execution_count": 5,
   "metadata": {},
   "outputs": [
    {
     "name": "stdout",
     "output_type": "stream",
     "text": [
      "[23, 2, 174, 4, 0, 0, 3, 2, 9, 2, 7, 1, 0, 1, 5, 3, 3, 1, 1, 8, 2, 1, 0, 2, 0, 3, 0, 0, 0, 0]\n"
     ]
    }
   ],
   "source": [
    "#留言人數\n",
    "print(comment_people_list)"
   ]
  },
  {
   "cell_type": "code",
   "execution_count": 6,
   "metadata": {},
   "outputs": [
    {
     "name": "stdout",
     "output_type": "stream",
     "text": [
      "[236, 64, 51, 45, 26, 20, 17, 13, 13, 12, 11, 11, 9, 7, 6, 6, 6, 5, 5, 4, 3, 3, 3, 2, 2, 2, 2, 1, 1, 1]\n"
     ]
    }
   ],
   "source": [
    "#按讚人數\n",
    "print(good_people_list)"
   ]
  },
  {
   "cell_type": "code",
   "execution_count": 9,
   "metadata": {},
   "outputs": [],
   "source": [
    "# 3. 計算熱門/非熱門文章的「平均留言人數」與「平均按讚人數」\n",
    "#假設前三篇文章是熱門,其餘皆是非熱門\n",
    "count=0\n",
    "hot_comment=0\n",
    "hot_good=0\n",
    "normal_comment=0\n",
    "normal_good=0\n",
    "for comment_count in comment_people_list:\n",
    "    if count < 3:\n",
    "        hot_comment+=comment_count\n",
    "    else:\n",
    "        normal_comment+=comment_count\n",
    "    count+=1\n",
    "count=0\n",
    "for good_count in good_people_list:\n",
    "    if count < 3:\n",
    "        hot_good+=good_count\n",
    "    else:\n",
    "        normal_good+=good_count\n",
    "    count+=1\n",
    "    "
   ]
  },
  {
   "cell_type": "code",
   "execution_count": 10,
   "metadata": {},
   "outputs": [
    {
     "name": "stdout",
     "output_type": "stream",
     "text": [
      "熱門文章的平均留言人數: 66.33333333333333\n",
      "非熱門文章的平均留言人數: 2.1481481481481484\n"
     ]
    }
   ],
   "source": [
    "print(\"熱門文章的平均留言人數:\",hot_comment/3)\n",
    "\n",
    "print(\"非熱門文章的平均留言人數:\",normal_comment/27)"
   ]
  },
  {
   "cell_type": "code",
   "execution_count": 11,
   "metadata": {},
   "outputs": [
    {
     "name": "stdout",
     "output_type": "stream",
     "text": [
      "熱門文章平均按讚人數: 117.0\n",
      "非熱門文章的平均按讚人數: 8.74074074074074\n"
     ]
    }
   ],
   "source": [
    "print(\"熱門文章平均按讚人數:\",hot_good/3)\n",
    "print(\"非熱門文章的平均按讚人數:\",normal_good/27)"
   ]
  },
  {
   "cell_type": "code",
   "execution_count": null,
   "metadata": {},
   "outputs": [],
   "source": []
  }
 ],
 "metadata": {
  "kernelspec": {
   "display_name": "Python 3",
   "language": "python",
   "name": "python3"
  },
  "language_info": {
   "codemirror_mode": {
    "name": "ipython",
    "version": 3
   },
   "file_extension": ".py",
   "mimetype": "text/x-python",
   "name": "python",
   "nbconvert_exporter": "python",
   "pygments_lexer": "ipython3",
   "version": "3.7.3"
  }
 },
 "nbformat": 4,
 "nbformat_minor": 2
}
