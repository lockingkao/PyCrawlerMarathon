{
 "cells": [
  {
   "cell_type": "markdown",
   "metadata": {},
   "source": [
    "# API 資料串接 - 以 知乎 API 實作範例\n",
    "\n",
    "\n",
    "\n",
    "* 了解知乎 API 使用方式與回傳內容\n",
    "* 撰寫程式存取 API 且添加標頭\n",
    "\n",
    "\n"
   ]
  },
  {
   "cell_type": "markdown",
   "metadata": {},
   "source": [
    "## 作業目標\n",
    "\n",
    "* 根據範例提供的 API ，完成以下問題：\n",
    "\n",
    "    1. 取出知乎問題發問時間\n",
    "    2. 取出第一筆與最後一筆回答的時間\n"
   ]
  },
  {
   "cell_type": "markdown",
   "metadata": {},
   "source": [
    "### 1. 取出知乎問題發問時間"
   ]
  },
  {
   "cell_type": "code",
   "execution_count": 1,
   "metadata": {},
   "outputs": [
    {
     "data": {
      "text/plain": [
       "'<html>\\r\\n<head><title>400 Bad Request</title></head>\\r\\n<body bgcolor=\"white\">\\r\\n<center><h1>400 Bad Request</h1></center>\\r\\n<hr><center>openresty</center>\\r\\n</body>\\r\\n</html>\\r\\n'"
      ]
     },
     "execution_count": 1,
     "metadata": {},
     "output_type": "execute_result"
    }
   ],
   "source": [
    "# 1. 取出知乎問題發問時間\n",
    "\n",
    "import requests\n",
    "r = requests.get('https://www.zhihu.com/api/v4/questions/55493026/answers')\n",
    "response = r.text\n",
    "\n",
    "response\n"
   ]
  },
  {
   "cell_type": "markdown",
   "metadata": {},
   "source": [
    "# 加了header之後才顯示的了!"
   ]
  },
  {
   "cell_type": "code",
   "execution_count": 2,
   "metadata": {},
   "outputs": [
    {
     "data": {
      "text/plain": [
       "'{\"data\":[{\"id\":637938925,\"type\":\"answer\",\"answer_type\":\"normal\",\"question\":{\"type\":\"question\",\"id\":55493026,\"title\":\"你们都是怎么学 Python 的？\",\"question_type\":\"normal\",\"created\":1486390229,\"updated_time\":1582533957,\"url\":\"https://www.zhihu.com/api/v4/questions/55493026\",\"relationship\":{}},\"author\":{\"id\":\"e8c4768eaa41e3749f7e8bc5ac6aa74b\",\"url_token\":\"Lanyuneet\",\"name\":\"Slumbers\",\"avatar_url\":\"https://pic3.zhimg.com/v2-f950cfef511d33500177be90030dcd3d_l.jpg?source=1940ef5c\",\"avatar_url_template\":\"https://pic2.zhimg.com/v2-f950cfef511d33500177be90030dcd3d.jpg?source=1940ef5c\",\"is_org\":false,\"type\":\"people\",\"url\":\"https://www.zhihu.com/api/v4/people/e8c4768eaa41e3749f7e8bc5ac6aa74b\",\"user_type\":\"people\",\"headline\":\"算法工程师\",\"badge\":[],\"badge_v2\":{\"title\":\"\",\"merged_badges\":[],\"detail_badges\":[],\"icon\":\"\",\"night_icon\":\"\"},\"gender\":0,\"is_advertiser\":false,\"is_privacy\":false},\"url\":\"https://www.zhihu.com/api/v4/answers/637938925\",\"is_collapsed\":false,\"created_time\":1554085028,\"updated_time\":1558451618,\"extras\":\"\",\"is_copyable\":true,\"relationship\":{\"upvoted_followees\":[]},\"ad_answer\":null},{\"id\":683070334,\"type\":\"answer\",\"answer_type\":\"normal\",\"question\":{\"type\":\"question\",\"id\":55493026,\"title\":\"你们都是怎么学 Python 的？\",\"question_type\":\"normal\",\"created\":1486390229,\"updated_time\":1582533957,\"url\":\"https://www.zhihu.com/api/v4/questions/55493026\",\"relationship\":{}},\"author\":{\"id\":\"36f69162230003d316d0b8a6d8da20ba\",\"url_token\":\"liang-zi-wei-48\",\"name\":\"量子位\",\"avatar_url\":\"https://pic3.zhimg.com/v2-ca6e7ffc10a0d10edbae635cee82d007_l.jpg?source=1940ef5c\",\"avatar_url_template\":\"https://pic1.zhimg.com/v2-ca6e7ffc10a0d10edbae635cee82d007.jpg?source=1940ef5c\",\"is_org\":true,\"type\":\"people\",\"url\":\"https://www.zhihu.com/api/v4/people/36f69162230003d316d0b8a6d8da20ba\",\"user_type\":\"organization\",\"headline\":\"有趣的AI\\\\u0026amp;前沿科技→_→ 公众号：QbitAI\",\"badge\":[{\"type\":\"identity\",\"description\":\"已认证的官方帐号\",\"topics\":[]},{\"type\":\"best_answerer\",\"description\":\"优秀回答者\",\"topics\":[]}],\"badge_v2\":{\"title\":\"科研话题下的优秀回答者\",\"merged_badges\":[{\"type\":\"best\",\"detail_type\":\"best\",\"title\":\"优秀认证\",\"description\":\"科研话题下的优秀回答者\",\"url\":\"https://www.zhihu.com/topic/20054793\",\"sources\":[{\"id\":\"19556895\",\"token\":\"19556895\",\"type\":\"topic\",\"url\":\"https://www.zhihu.com/topic/19556895\",\"name\":\"科研\",\"avatar_path\":\"v2-f94b3093434c09b4501b056d142025e0\",\"avatar_url\":\"https://pic2.zhimg.com/v2-f94b3093434c09b4501b056d142025e0_hd.jpg\",\"description\":\"\",\"priority\":0},{\"id\":\"19551275\",\"token\":\"19551275\",\"type\":\"topic\",\"url\":\"https://www.zhihu.com/topic/19551275\",\"name\":\"人工智能\",\"avatar_path\":\"v2-c41d10d22173d515740c43c70f885705\",\"avatar_url\":\"https://pic1.zhimg.com/v2-c41d10d22173d515740c43c70f885705_hd.jpg\",\"description\":\"\",\"priority\":0}],\"icon\":\"\",\"night_icon\":\"\"},{\"type\":\"identity\",\"detail_type\":\"identity\",\"title\":\"认证\",\"description\":\"已认证的官方帐号\",\"url\":\"https://www.zhihu.com/account/verification/intro\",\"sources\":[],\"icon\":\"\",\"night_icon\":\"\"}],\"detail_badges\":[{\"type\":\"best\",\"detail_type\":\"best_answerer\",\"title\":\"优秀回答者\",\"description\":\"科研话题下的优秀回答者\",\"url\":\"https://www.zhihu.com/topic/20054793\",\"sources\":[{\"id\":\"19556895\",\"token\":\"19556895\",\"type\":\"topic\",\"url\":\"https://www.zhihu.com/topic/19556895\",\"name\":\"科研\",\"avatar_path\":\"v2-f94b3093434c09b4501b056d142025e0\",\"avatar_url\":\"https://pic2.zhimg.com/v2-f94b3093434c09b4501b056d142025e0_hd.jpg\",\"description\":\"\",\"priority\":0},{\"id\":\"19551275\",\"token\":\"19551275\",\"type\":\"topic\",\"url\":\"https://www.zhihu.com/topic/19551275\",\"name\":\"人工智能\",\"avatar_path\":\"v2-c41d10d22173d515740c43c70f885705\",\"avatar_url\":\"https://pic1.zhimg.com/v2-c41d10d22173d515740c43c70f885705_hd.jpg\",\"description\":\"\",\"priority\":0}],\"icon\":\"https://pic2.zhimg.com/v2-bf0eec3c31c8e866c468f60eb296696c_l.png\",\"night_icon\":\"https://pic2.zhimg.com/v2-c724649168d8f9d36d7c3d13140a2594_l.png\"},{\"type\":\"identity\",\"detail_type\":\"identity_org\",\"title\":\"已认证的官方帐号\",\"description\":\"已认证的官方帐号\",\"url\":\"https://www.zhihu.com/account/verification/intro\",\"sources\":[],\"icon\":\"https://pic4.zhimg.com/v2-235258cecb8a0f184c4d38483cd6f6b6_l.png\",\"night_icon\":\"https://pic2.zhimg.com/v2-45e870b8f0982bcd7537ea4627afbd00_l.png\"}],\"icon\":\"https://pic2.zhimg.com/v2-7a1a13d7531f29551f79278e9391b8ee_l.png\",\"night_icon\":\"https://pic4.zhimg.com/v2-af71f641951fd5f8b4a7d305288693df_l.png\"},\"gender\":-1,\"is_advertiser\":false,\"is_privacy\":false},\"url\":\"https://www.zhihu.com/api/v4/answers/683070334\",\"is_collapsed\":false,\"created_time\":1557824412,\"updated_time\":1557824412,\"extras\":\"\",\"is_copyable\":true,\"relationship\":{\"upvoted_followees\":[]},\"ad_answer\":null},{\"id\":1106818911,\"type\":\"answer\",\"answer_type\":\"paid\",\"question\":{\"type\":\"question\",\"id\":55493026,\"title\":\"你们都是怎么学 Python 的？\",\"question_type\":\"normal\",\"created\":1486390229,\"updated_time\":1582533957,\"url\":\"https://www.zhihu.com/api/v4/questions/55493026\",\"relationship\":{}},\"author\":{\"id\":\"1ab00059f301920f1dae9d92386937e6\",\"url_token\":\"zhi-hu-ke-tang\",\"name\":\"知乎课堂\",\"avatar_url\":\"https://pic2.zhimg.com/v2-e1b963abfa4c07d04d7b66bc482b1094_l.jpg?source=1940ef5c\",\"avatar_url_template\":\"https://pic3.zhimg.com/v2-e1b963abfa4c07d04d7b66bc482b1094.jpg?source=1940ef5c\",\"is_org\":true,\"type\":\"people\",\"url\":\"https://www.zhihu.com/api/v4/people/1ab00059f301920f1dae9d92386937e6\",\"user_type\":\"organization\",\"headline\":\"欢迎关注公众号：知乎职场圈，每天解锁一个新技能。\",\"badge\":[{\"type\":\"identity\",\"description\":\"已认证的官方帐号\",\"topics\":[]}],\"badge_v2\":{\"title\":\"已认证的官方帐号\",\"merged_badges\":[{\"type\":\"identity\",\"detail_type\":\"identity\",\"title\":\"认证\",\"description\":\"已认证的官方帐号\",\"url\":\"https://www.zhihu.com/account/verification/intro\",\"sources\":[],\"icon\":\"\",\"night_icon\":\"\"}],\"detail_badges\":[{\"type\":\"identity\",\"detail_type\":\"identity_org\",\"title\":\"已认证的官方帐号\",\"description\":\"已认证的官方帐号\",\"url\":\"https://www.zhihu.com/account/verification/intro\",\"sources\":[],\"icon\":\"https://pic1.zhimg.com/v2-235258cecb8a0f184c4d38483cd6f6b6_l.png\",\"night_icon\":\"https://pic2.zhimg.com/v2-45e870b8f0982bcd7537ea4627afbd00_l.png\"}],\"icon\":\"https://pic2.zhimg.com/v2-235258cecb8a0f184c4d38483cd6f6b6_l.png\",\"night_icon\":\"https://pic4.zhimg.com/v2-45e870b8f0982bcd7537ea4627afbd00_l.png\"},\"gender\":-1,\"is_advertiser\":true,\"is_privacy\":false},\"url\":\"https://www.zhihu.com/api/v4/answers/1106818911\",\"is_collapsed\":false,\"created_time\":1585227854,\"updated_time\":1585227854,\"extras\":\"\",\"is_copyable\":false,\"relationship\":{\"upvoted_followees\":[]},\"ad_answer\":null},{\"id\":163537026,\"type\":\"answer\",\"answer_type\":\"normal\",\"question\":{\"type\":\"question\",\"id\":55493026,\"title\":\"你们都是怎么学 Python 的？\",\"question_type\":\"normal\",\"created\":1486390229,\"updated_time\":1582533957,\"url\":\"https://www.zhihu.com/api/v4/questions/55493026\",\"relationship\":{}},\"author\":{\"id\":\"eaf435b228ce0b038a4afe8203f59b49\",\"url_token\":\"sgai\",\"name\":\"路人甲\",\"avatar_url\":\"https://pic4.zhimg.com/958a18f3216805bed269d158fb83325a_l.jpg?source=1940ef5c\",\"avatar_url_template\":\"https://pic1.zhimg.com/958a18f3216805bed269d158fb83325a.jpg?source=1940ef5c\",\"is_org\":false,\"type\":\"people\",\"url\":\"https://www.zhihu.com/api/v4/people/eaf435b228ce0b038a4afe8203f59b49\",\"user_type\":\"people\",\"headline\":\"微信公众号：路人甲TM，微信：904727147\",\"badge\":[],\"badge_v2\":{\"title\":\"\",\"merged_badges\":[],\"detail_badges\":[],\"icon\":\"\",\"night_icon\":\"\"},\"gender\":1,\"is_advertiser\":false,\"is_privacy\":false},\"url\":\"https://www.zhihu.com/api/v4/answers/163537026\",\"is_collapsed\":false,\"created_time\":1493693113,\"updated_time\":1579138388,\"extras\":\"\",\"is_copyable\":true,\"relationship\":{\"upvoted_followees\":[]},\"ad_answer\":null},{\"id\":873825546,\"type\":\"answer\",\"answer_type\":\"normal\",\"question\":{\"type\":\"question\",\"id\":55493026,\"title\":\"你们都是怎么学 Python 的？\",\"question_type\":\"normal\",\"created\":1486390229,\"updated_time\":1582533957,\"url\":\"https://www.zhihu.com/api/v4/questions/55493026\",\"relationship\":{}},\"author\":{\"id\":\"4d1c2c77bc7431c2a6006d154198e8b9\",\"url_token\":\"ji-de-yao-xing-fu\",\"name\":\"痴海\",\"avatar_url\":\"https://pic3.zhimg.com/v2-e8b4f9dff1e3c3170185584c925d388a_l.jpg?source=1940ef5c\",\"avatar_url_template\":\"https://pic3.zhimg.com/v2-e8b4f9dff1e3c3170185584c925d388a.jpg?source=1940ef5c\",\"is_org\":false,\"type\":\"people\",\"url\":\"https://www.zhihu.com/api/v4/people/4d1c2c77bc7431c2a6006d154198e8b9\",\"user_type\":\"people\",\"headline\":\"公众号痴海：每周一篇干货文\",\"badge\":[],\"badge_v2\":{\"title\":\"\",\"merged_badges\":[],\"detail_badges\":[],\"icon\":\"\",\"night_icon\":\"\"},\"gender\":1,\"is_advertiser\":false,\"is_privacy\":false},\"url\":\"https://www.zhihu.com/api/v4/answers/873825546\",\"is_collapsed\":false,\"created_time\":1572318426,\"updated_time\":1587220473,\"extras\":\"\",\"is_copyable\":false,\"relationship\":{\"upvoted_followees\":[]},\"ad_answer\":null}],\"paging\":{\"is_end\":false,\"is_start\":true,\"next\":\"https://www.zhihu.com/api/v4/questions/55493026/answers?limit=5\\\\u0026offset=5\",\"previous\":\"https://www.zhihu.com/api/v4/questions/55493026/answers?limit=5\\\\u0026offset=0\",\"totals\":614}}\\n'"
      ]
     },
     "execution_count": 2,
     "metadata": {},
     "output_type": "execute_result"
    }
   ],
   "source": [
    "headers = {'user-agent': 'my-app/0.0.1'}\n",
    "r = requests.get('https://www.zhihu.com/api/v4/questions/55493026/answers',headers=headers)\n",
    "response = r.text\n",
    "\n",
    "response"
   ]
  },
  {
   "cell_type": "code",
   "execution_count": 30,
   "metadata": {},
   "outputs": [
    {
     "data": {
      "text/plain": [
       "dict_keys(['id', 'type', 'answer_type', 'question', 'author', 'url', 'is_collapsed', 'created_time', 'updated_time', 'extras', 'is_copyable', 'relationship', 'ad_answer'])"
      ]
     },
     "execution_count": 30,
     "metadata": {},
     "output_type": "execute_result"
    }
   ],
   "source": [
    "import json\n",
    "data = json.loads(response)\n",
    "\n",
    "data['data'][1].keys()\n",
    "# data['data'][1][\"created_time\"]"
   ]
  },
  {
   "cell_type": "code",
   "execution_count": 45,
   "metadata": {},
   "outputs": [
    {
     "name": "stdout",
     "output_type": "stream",
     "text": [
      "1554085028\n",
      "1557824412\n",
      "1585227854\n",
      "1493693113\n",
      "1572318426\n"
     ]
    }
   ],
   "source": [
    "for article_count in range(len(data['data'])):\n",
    "    print(data['data'][article_count][\"created_time\"])"
   ]
  },
  {
   "cell_type": "markdown",
   "metadata": {},
   "source": [
    "### 2. 取出第一筆與最後一筆回答的時間"
   ]
  },
  {
   "cell_type": "code",
   "execution_count": 49,
   "metadata": {},
   "outputs": [
    {
     "name": "stdout",
     "output_type": "stream",
     "text": [
      "1558451618\n",
      "1557824412\n",
      "1585227854\n",
      "1579138388\n",
      "1587220473\n"
     ]
    }
   ],
   "source": [
    "# 2. 取出第一筆與最後一筆回答的時間\n",
    "\n",
    "for article_count in range(len(data['data'])):\n",
    "    print(data['data'][article_count][\"updated_time\"])"
   ]
  },
  {
   "cell_type": "code",
   "execution_count": 64,
   "metadata": {},
   "outputs": [
    {
     "data": {
      "text/plain": [
       "{'id': 637938925,\n",
       " 'type': 'answer',\n",
       " 'answer_type': 'normal',\n",
       " 'question': {'type': 'question',\n",
       "  'id': 55493026,\n",
       "  'title': '你们都是怎么学 Python 的？',\n",
       "  'question_type': 'normal',\n",
       "  'created': 1486390229,\n",
       "  'updated_time': 1582533957,\n",
       "  'url': 'https://www.zhihu.com/api/v4/questions/55493026',\n",
       "  'relationship': {}},\n",
       " 'author': {'id': 'e8c4768eaa41e3749f7e8bc5ac6aa74b',\n",
       "  'url_token': 'Lanyuneet',\n",
       "  'name': 'Slumbers',\n",
       "  'avatar_url': 'https://pic3.zhimg.com/v2-f950cfef511d33500177be90030dcd3d_l.jpg?source=1940ef5c',\n",
       "  'avatar_url_template': 'https://pic2.zhimg.com/v2-f950cfef511d33500177be90030dcd3d.jpg?source=1940ef5c',\n",
       "  'is_org': False,\n",
       "  'type': 'people',\n",
       "  'url': 'https://www.zhihu.com/api/v4/people/e8c4768eaa41e3749f7e8bc5ac6aa74b',\n",
       "  'user_type': 'people',\n",
       "  'headline': '算法工程师',\n",
       "  'badge': [],\n",
       "  'badge_v2': {'title': '',\n",
       "   'merged_badges': [],\n",
       "   'detail_badges': [],\n",
       "   'icon': '',\n",
       "   'night_icon': ''},\n",
       "  'gender': 0,\n",
       "  'is_advertiser': False,\n",
       "  'is_privacy': False},\n",
       " 'url': 'https://www.zhihu.com/api/v4/answers/637938925',\n",
       " 'is_collapsed': False,\n",
       " 'created_time': 1554085028,\n",
       " 'updated_time': 1558451618,\n",
       " 'extras': '',\n",
       " 'is_copyable': True,\n",
       " 'relationship': {'upvoted_followees': []},\n",
       " 'ad_answer': None}"
      ]
     },
     "execution_count": 64,
     "metadata": {},
     "output_type": "execute_result"
    }
   ],
   "source": [
    "data['data'][0]"
   ]
  },
  {
   "cell_type": "markdown",
   "metadata": {},
   "source": [
    "# 第一筆"
   ]
  },
  {
   "cell_type": "code",
   "execution_count": 66,
   "metadata": {},
   "outputs": [
    {
     "name": "stdout",
     "output_type": "stream",
     "text": [
      "1558451618\n"
     ]
    }
   ],
   "source": [
    "print(data['data'][0][\"updated_time\"])"
   ]
  },
  {
   "cell_type": "markdown",
   "metadata": {},
   "source": [
    "# 最後一筆"
   ]
  },
  {
   "cell_type": "code",
   "execution_count": 67,
   "metadata": {},
   "outputs": [
    {
     "name": "stdout",
     "output_type": "stream",
     "text": [
      "1587220473\n"
     ]
    }
   ],
   "source": [
    "print(data['data'][4][\"updated_time\"])"
   ]
  },
  {
   "cell_type": "code",
   "execution_count": null,
   "metadata": {},
   "outputs": [],
   "source": []
  }
 ],
 "metadata": {
  "kernelspec": {
   "display_name": "Python 3",
   "language": "python",
   "name": "python3"
  },
  "language_info": {
   "codemirror_mode": {
    "name": "ipython",
    "version": 3
   },
   "file_extension": ".py",
   "mimetype": "text/x-python",
   "name": "python",
   "nbconvert_exporter": "python",
   "pygments_lexer": "ipython3",
   "version": "3.7.3"
  }
 },
 "nbformat": 4,
 "nbformat_minor": 2
}
